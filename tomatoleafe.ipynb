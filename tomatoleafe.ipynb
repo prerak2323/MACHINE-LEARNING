{
 "cells": [
  {
   "cell_type": "code",
   "execution_count": 1,
   "id": "c75b4c5a",
   "metadata": {},
   "outputs": [],
   "source": [
    "import numpy as np\n",
    "import pandas as pd \n",
    "import tensorflow as tf\n",
    "import matplotlib.pyplot as plt"
   ]
  },
  {
   "cell_type": "code",
   "execution_count": 2,
   "id": "92dfb7b3",
   "metadata": {},
   "outputs": [],
   "source": [
    "from keras.preprocessing.image import ImageDataGenerator"
   ]
  },
  {
   "cell_type": "code",
   "execution_count": 3,
   "id": "acf98e32",
   "metadata": {},
   "outputs": [],
   "source": [
    "train_datagen=ImageDataGenerator(rescale=1./125,shear_range=0.2,zoom_range=0.2,horizontal_flip=True)"
   ]
  },
  {
   "cell_type": "code",
   "execution_count": 4,
   "id": "1547cfa0",
   "metadata": {},
   "outputs": [
    {
     "name": "stdout",
     "output_type": "stream",
     "text": [
      "Found 25848 images belonging to 11 classes.\n"
     ]
    }
   ],
   "source": [
    "training_set=train_datagen.flow_from_directory('tomato/train',target_size=(64,64),batch_size=32,class_mode='categorical')"
   ]
  },
  {
   "cell_type": "code",
   "execution_count": 5,
   "id": "35024ea9",
   "metadata": {},
   "outputs": [
    {
     "name": "stdout",
     "output_type": "stream",
     "text": [
      "Found 6683 images belonging to 11 classes.\n"
     ]
    }
   ],
   "source": [
    "test_datagen=ImageDataGenerator(rescale=1./125)\n",
    "test_set=test_datagen.flow_from_directory('tomato/valid',target_size=(64,64),batch_size=32,class_mode='categorical')"
   ]
  },
  {
   "cell_type": "code",
   "execution_count": 6,
   "id": "63544a7a",
   "metadata": {},
   "outputs": [],
   "source": [
    "#building a cnn\n",
    "cnn=tf.keras.models.Sequential()\n",
    "cnn.add(tf.keras.layers.Conv2D(filters=32,\n",
    "                               padding='same',\n",
    "                              kernel_size=3,\n",
    "                              activation='relu',\n",
    "                              input_shape=[64,64,3]))"
   ]
  },
  {
   "cell_type": "code",
   "execution_count": 7,
   "id": "03c729d5",
   "metadata": {},
   "outputs": [],
   "source": [
    "#maxpooling\n",
    "cnn.add(tf.keras.layers.MaxPool2D(pool_size=2,strides=2))"
   ]
  },
  {
   "cell_type": "code",
   "execution_count": 8,
   "id": "c7bd7755",
   "metadata": {},
   "outputs": [],
   "source": [
    "#adding second layer\n",
    "#adding 2nd cnn layer\n",
    "cnn.add(tf.keras.layers.Conv2D(filters=32,\n",
    "                              kernel_size=3,\n",
    "                              activation='relu'))\n",
    "# max pooling\n",
    "cnn.add(tf.keras.layers.MaxPool2D(pool_size=2,strides=2))"
   ]
  },
  {
   "cell_type": "code",
   "execution_count": 9,
   "id": "ea28032e",
   "metadata": {},
   "outputs": [],
   "source": [
    "#flatteing\n",
    "cnn.add(tf.keras.layers.Flatten())"
   ]
  },
  {
   "cell_type": "code",
   "execution_count": 10,
   "id": "7b0d59f5",
   "metadata": {},
   "outputs": [],
   "source": [
    "#full connection\n",
    "cnn.add(tf.keras.layers.Dense(units=128,activation='relu'))\n"
   ]
  },
  {
   "cell_type": "code",
   "execution_count": 11,
   "id": "236438a8",
   "metadata": {},
   "outputs": [],
   "source": [
    "#output layer\n",
    "cnn.add(tf.keras.layers.Dense(units=11,activation='sigmoid'))"
   ]
  },
  {
   "cell_type": "code",
   "execution_count": 12,
   "id": "ce0d9aca",
   "metadata": {},
   "outputs": [],
   "source": [
    "#training the data set and compiling\n",
    "cnn.compile(optimizer='adam',loss='categorical_crossentropy',metrics=['accuracy'])"
   ]
  },
  {
   "cell_type": "code",
   "execution_count": 13,
   "id": "4f585424",
   "metadata": {},
   "outputs": [
    {
     "name": "stdout",
     "output_type": "stream",
     "text": [
      "Epoch 1/25\n",
      "808/808 [==============================] - 182s 224ms/step - loss: 1.2929 - accuracy: 0.5560 - val_loss: 1.0424 - val_accuracy: 0.6410\n",
      "Epoch 2/25\n",
      "808/808 [==============================] - 163s 202ms/step - loss: 0.8168 - accuracy: 0.7176 - val_loss: 0.8588 - val_accuracy: 0.7097\n",
      "Epoch 3/25\n",
      "808/808 [==============================] - 162s 201ms/step - loss: 0.6853 - accuracy: 0.7618 - val_loss: 0.7920 - val_accuracy: 0.7293\n",
      "Epoch 4/25\n",
      "808/808 [==============================] - 165s 205ms/step - loss: 0.5927 - accuracy: 0.7927 - val_loss: 0.7659 - val_accuracy: 0.7522\n",
      "Epoch 5/25\n",
      "808/808 [==============================] - 172s 213ms/step - loss: 0.5276 - accuracy: 0.8134 - val_loss: 0.9382 - val_accuracy: 0.7129\n",
      "Epoch 6/25\n",
      "808/808 [==============================] - 1766s 2s/step - loss: 0.4822 - accuracy: 0.8322 - val_loss: 0.5950 - val_accuracy: 0.7998\n",
      "Epoch 7/25\n",
      "808/808 [==============================] - 170s 210ms/step - loss: 0.4476 - accuracy: 0.8439 - val_loss: 0.5540 - val_accuracy: 0.8198\n",
      "Epoch 8/25\n",
      "808/808 [==============================] - 169s 209ms/step - loss: 0.4278 - accuracy: 0.8532 - val_loss: 0.5071 - val_accuracy: 0.8309\n",
      "Epoch 9/25\n",
      "808/808 [==============================] - 167s 207ms/step - loss: 0.4041 - accuracy: 0.8596 - val_loss: 0.5574 - val_accuracy: 0.8112\n",
      "Epoch 10/25\n",
      "808/808 [==============================] - 168s 208ms/step - loss: 0.3796 - accuracy: 0.8640 - val_loss: 0.5747 - val_accuracy: 0.8215\n",
      "Epoch 11/25\n",
      "808/808 [==============================] - 169s 209ms/step - loss: 0.3547 - accuracy: 0.8760 - val_loss: 0.5520 - val_accuracy: 0.8315\n",
      "Epoch 12/25\n",
      "808/808 [==============================] - 166s 206ms/step - loss: 0.3401 - accuracy: 0.8818 - val_loss: 0.5664 - val_accuracy: 0.8168\n",
      "Epoch 13/25\n",
      "808/808 [==============================] - 169s 210ms/step - loss: 0.3145 - accuracy: 0.8902 - val_loss: 0.5891 - val_accuracy: 0.8146\n",
      "Epoch 14/25\n",
      "808/808 [==============================] - 566s 701ms/step - loss: 0.3106 - accuracy: 0.8913 - val_loss: 0.4998 - val_accuracy: 0.8457\n",
      "Epoch 15/25\n",
      "808/808 [==============================] - 170s 210ms/step - loss: 0.3001 - accuracy: 0.8951 - val_loss: 0.7828 - val_accuracy: 0.7703\n",
      "Epoch 16/25\n",
      "808/808 [==============================] - 169s 209ms/step - loss: 0.2927 - accuracy: 0.8969 - val_loss: 0.4464 - val_accuracy: 0.8565\n",
      "Epoch 17/25\n",
      "808/808 [==============================] - 165s 204ms/step - loss: 0.2756 - accuracy: 0.9051 - val_loss: 0.5695 - val_accuracy: 0.8339\n",
      "Epoch 18/25\n",
      "808/808 [==============================] - 166s 205ms/step - loss: 0.2562 - accuracy: 0.9116 - val_loss: 0.6934 - val_accuracy: 0.8011\n",
      "Epoch 19/25\n",
      "808/808 [==============================] - 164s 203ms/step - loss: 0.2504 - accuracy: 0.9151 - val_loss: 0.5543 - val_accuracy: 0.8457\n",
      "Epoch 20/25\n",
      "808/808 [==============================] - 164s 203ms/step - loss: 0.2341 - accuracy: 0.9181 - val_loss: 0.4583 - val_accuracy: 0.8577\n",
      "Epoch 21/25\n",
      "808/808 [==============================] - 163s 201ms/step - loss: 0.2323 - accuracy: 0.9196 - val_loss: 0.4492 - val_accuracy: 0.8572\n",
      "Epoch 22/25\n",
      "808/808 [==============================] - 165s 204ms/step - loss: 0.2274 - accuracy: 0.9219 - val_loss: 0.5511 - val_accuracy: 0.8501\n",
      "Epoch 23/25\n",
      "808/808 [==============================] - 162s 200ms/step - loss: 0.2149 - accuracy: 0.9263 - val_loss: 0.7835 - val_accuracy: 0.8080\n",
      "Epoch 24/25\n",
      "808/808 [==============================] - 168s 208ms/step - loss: 0.2179 - accuracy: 0.9252 - val_loss: 0.4928 - val_accuracy: 0.8643\n",
      "Epoch 25/25\n",
      "808/808 [==============================] - 172s 213ms/step - loss: 0.2026 - accuracy: 0.9293 - val_loss: 0.4953 - val_accuracy: 0.8605\n"
     ]
    },
    {
     "data": {
      "text/plain": [
       "<keras.callbacks.History at 0x20687cba6d0>"
      ]
     },
     "execution_count": 13,
     "metadata": {},
     "output_type": "execute_result"
    }
   ],
   "source": [
    "#training the cnn on the training set and evaulating it on the test set\n",
    "cnn.fit(x=training_set,validation_data=test_set,epochs=25)\n",
    "# batch_size*epoch=250 below\n"
   ]
  },
  {
   "cell_type": "code",
   "execution_count": 14,
   "id": "0f91dbc1",
   "metadata": {},
   "outputs": [],
   "source": [
    "#make a single prediction\n",
    "import numpy as np\n",
    "from tensorflow.keras.preprocessing import image"
   ]
  },
  {
   "cell_type": "code",
   "execution_count": 79,
   "id": "9720ecd7",
   "metadata": {},
   "outputs": [
    {
     "name": "stdout",
     "output_type": "stream",
     "text": [
      "1/1 [==============================] - 0s 32ms/step\n"
     ]
    },
    {
     "data": {
      "text/plain": [
       "{'Bacterial_spot': 0,\n",
       " 'Early_blight': 1,\n",
       " 'Late_blight': 2,\n",
       " 'Leaf_Mold': 3,\n",
       " 'Septoria_leaf_spot': 4,\n",
       " 'Spider_mites Two-spotted_spider_mite': 5,\n",
       " 'Target_Spot': 6,\n",
       " 'Tomato_Yellow_Leaf_Curl_Virus': 7,\n",
       " 'Tomato_mosaic_virus': 8,\n",
       " 'healthy': 9,\n",
       " 'powdery_mildew': 10}"
      ]
     },
     "execution_count": 79,
     "metadata": {},
     "output_type": "execute_result"
    }
   ],
   "source": [
    "test_image= image.load_img('tl.jpg',target_size=(64,64))\n",
    "test_image=image.img_to_array(test_image)\n",
    "test_image=np.expand_dims(test_image,axis=0)\n",
    "result=cnn.predict(test_image)\n",
    "training_set.class_indices\n"
   ]
  },
  {
   "cell_type": "code",
   "execution_count": 80,
   "id": "b09fd1b5",
   "metadata": {},
   "outputs": [],
   "source": [
    "def res():\n",
    "    if  result[0][0]==1 :\n",
    "        print('Bacterial_spot',result[0][0])\n",
    "    if result[0][1]==1 :\n",
    "        print('Early_blight',result[0][0])\n",
    "    if result[0][2]==1 :\n",
    "        print('Late_blight',result[0][2])\n",
    "    if result[0][3]==1 :\n",
    "        print('Leaf_Mold',result[0][3])\n",
    "    if result[0][4]==1 :\n",
    "        print('Septoria_leaf_spot',result[0][4])\n",
    "    if result[0][5]==1 :\n",
    "        print('Spider_mites Two-spotted_spider_mite',result[0][5])\n",
    "    if result[0][6]==1 :\n",
    "        print('Target_Spot',result[0][6])\n",
    "    if result[0][7]==1 :\n",
    "        print('Tomato_Yellow_Leaf_Curl_Virus',result[0][7])\n",
    "    if result[0][8]==1 :\n",
    "        print('Tomato_mosaic_virus',result[0][8])\n",
    "    if result[0][9]==1 :\n",
    "        print('healthy',result[0][9])\n",
    "    if result[0][10]==1 :\n",
    "        print('powdery_mildew', result[0][10])\n",
    "        "
   ]
  },
  {
   "cell_type": "code",
   "execution_count": 81,
   "id": "2bf1ec2d",
   "metadata": {},
   "outputs": [
    {
     "name": "stdout",
     "output_type": "stream",
     "text": [
      "Target_Spot 1.0\n",
      "Tomato_mosaic_virus 1.0\n",
      "healthy 1.0\n"
     ]
    }
   ],
   "source": [
    "res()"
   ]
  },
  {
   "cell_type": "code",
   "execution_count": 74,
   "id": "01c015f6",
   "metadata": {},
   "outputs": [],
   "source": [
    "import joblib"
   ]
  },
  {
   "cell_type": "code",
   "execution_count": 75,
   "id": "2f517d09",
   "metadata": {},
   "outputs": [],
   "source": [
    "joblib.dump(cnn,'tleaf')\n",
    "tleaf=joblib.load('tleaf')"
   ]
  },
  {
   "cell_type": "code",
   "execution_count": null,
   "id": "2084540b",
   "metadata": {},
   "outputs": [],
   "source": []
  }
 ],
 "metadata": {
  "kernelspec": {
   "display_name": "Python 3 (ipykernel)",
   "language": "python",
   "name": "python3"
  },
  "language_info": {
   "codemirror_mode": {
    "name": "ipython",
    "version": 3
   },
   "file_extension": ".py",
   "mimetype": "text/x-python",
   "name": "python",
   "nbconvert_exporter": "python",
   "pygments_lexer": "ipython3",
   "version": "3.11.2"
  },
  "varInspector": {
   "cols": {
    "lenName": 16,
    "lenType": 16,
    "lenVar": 40
   },
   "kernels_config": {
    "python": {
     "delete_cmd_postfix": "",
     "delete_cmd_prefix": "del ",
     "library": "var_list.py",
     "varRefreshCmd": "print(var_dic_list())"
    },
    "r": {
     "delete_cmd_postfix": ") ",
     "delete_cmd_prefix": "rm(",
     "library": "var_list.r",
     "varRefreshCmd": "cat(var_dic_list()) "
    }
   },
   "types_to_exclude": [
    "module",
    "function",
    "builtin_function_or_method",
    "instance",
    "_Feature"
   ],
   "window_display": false
  }
 },
 "nbformat": 4,
 "nbformat_minor": 5
}
