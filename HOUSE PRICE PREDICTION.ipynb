import pandas as pd
import numpy as np
df=pd.read_csv('Real estate.csv')
dF
df.keys()
df_1=df.drop(['No'],axis=1,)
df_1.isnull().sum().sum() #hence data is clean no null values
#no dummy variables hence no one hot encoding
X=df_1.drop('house price of unit area',axis=1)
y=df_1['house price of unit area']
#feature scaling
from sklearn.model_selection import train_test_split
from sklearn.preprocessing import StandardScaler
from sklearn.preprocessing import MinMaxScaler
X_train,X_test,y_train,y_test=train_test_split(X,y,test_size=0.2,random_state=60)
sc=StandardScaler()
sc.fit(X_train)
X_train=sc.transform(X_train)
X_test=sc.transform(X_test)
from sklearn.linear_model import LinearRegression
lr=LinearRegression()
lr.fit(X_train,y_train)
lr.score(X_test,y_test)

#polynomial regression
from sklearn.linear_model import LinearRegression
from sklearn.preprocessing import PolynomialFeatures
from matplotlib import pyplot as plt
import seaborn as sns
from sklearn.metrics import label_ranking_average_precision_score
poly_reg=PolynomialFeatures(degree=3)
poly_reg.fit(X_train)
X_train_poly=poly_reg.transform(X_train)
X_test_poly=poly_reg.transform(X_test)
lr=LinearRegression()
lr.fit(X_train_polAy,y_train)
lr.score(X_test_poly,y_test)

par=lr.predict(X_train_poly)
par_1=pd.DataFrame(par,columns=['Price'])
par_1
from matplotlib import pyplot as plt
import seaborn as sns
X_train_poly=np.arange(0,len(X_train_poly),1)
plt.scatter(X_train_poly,y_train,color='g') 
plt.plot(X_train_poly,par,color='k')
plt.show()
